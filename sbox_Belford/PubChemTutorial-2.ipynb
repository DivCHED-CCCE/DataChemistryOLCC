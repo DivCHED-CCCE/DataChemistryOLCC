{
 "cells": [
  {
   "cell_type": "markdown",
   "id": "fd1270eb-6bc0-471d-b198-acdff986a47c",
   "metadata": {},
   "source": [
    "# Finding Chemical Information\n",
    "\n",
    "## searching\n",
    "use quotes for exact search"
   ]
  },
  {
   "cell_type": "markdown",
   "id": "e4c2b950-b6ee-4ee4-b38c-607b8e38aed2",
   "metadata": {},
   "source": []
  },
  {
   "cell_type": "markdown",
   "id": "371272a9-5c58-4e93-bcf3-276c401448f6",
   "metadata": {},
   "source": []
  },
  {
   "cell_type": "markdown",
   "id": "64b03fdd-c0f7-432b-8b45-3ff260f7c344",
   "metadata": {},
   "source": []
  },
  {
   "cell_type": "markdown",
   "id": "a01e44be-184a-4445-8926-94603a4ea7c5",
   "metadata": {},
   "source": []
  }
 ],
 "metadata": {
  "kernelspec": {
   "display_name": "Python (py4sci)",
   "language": "python",
   "name": "py4sci"
  },
  "language_info": {
   "codemirror_mode": {
    "name": "ipython",
    "version": 3
   },
   "file_extension": ".py",
   "mimetype": "text/x-python",
   "name": "python",
   "nbconvert_exporter": "python",
   "pygments_lexer": "ipython3",
   "version": "3.10.17"
  }
 },
 "nbformat": 4,
 "nbformat_minor": 5
}
